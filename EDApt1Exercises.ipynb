{
 "cells": [
  {
   "cell_type": "markdown",
   "id": "508b5a5d-bbec-41dc-9610-b9929c89536a",
   "metadata": {},
   "source": [
    "# Import Pandas\n",
    "\n",
    "To use the Pandas library, you need to import it into your coding environment. For these exercises, our coding environment is this Jupyter notebook. Pandas is typically imported and named as \"pd\"."
   ]
  },
  {
   "cell_type": "code",
   "execution_count": 13,
   "id": "c18c6c3a-909e-4be2-bec6-fffe39a15f18",
   "metadata": {},
   "outputs": [],
   "source": [
    "# import the pandas library and use the alias 'pd'\n",
    "import pandas as pd\n",
    "import numpy as np"
   ]
  },
  {
   "cell_type": "markdown",
   "id": "010157cf-333f-4aaa-a87d-afd88645752b",
   "metadata": {},
   "source": [
    "# Series\n",
    "\n",
    "A series is a data type used by Pandas. It is like a one dimensional list, whose elements can be of any data type themselves.\n",
    "Pandas contains a method, ``.Series()``, that initiates a series object from a Python list, tuple, "
   ]
  },
  {
   "cell_type": "code",
   "execution_count": 2,
   "id": "485887b3",
   "metadata": {},
   "outputs": [],
   "source": [
    "import pandas as pd1"
   ]
  },
  {
   "cell_type": "code",
   "execution_count": 3,
   "id": "e31b74b5-2f8e-4126-bf65-be577a3e5b06",
   "metadata": {
    "tags": []
   },
   "outputs": [
    {
     "ename": "TypeError",
     "evalue": "Index(...) must be called with a collection of some kind, 'banana' was passed",
     "output_type": "error",
     "traceback": [
      "\u001b[1;31m---------------------------------------------------------------------------\u001b[0m",
      "\u001b[1;31mTypeError\u001b[0m                                 Traceback (most recent call last)",
      "Cell \u001b[1;32mIn[3], line 6\u001b[0m\n\u001b[0;32m      3\u001b[0m s1 \u001b[38;5;241m=\u001b[39m pd\u001b[38;5;241m.\u001b[39mSeries([\u001b[38;5;241m10\u001b[39m,\u001b[38;5;241m20\u001b[39m,\u001b[38;5;241m30\u001b[39m,\u001b[38;5;241m40\u001b[39m,\u001b[38;5;241m50\u001b[39m])\n\u001b[0;32m      4\u001b[0m \u001b[38;5;66;03m# additional practice\u001b[39;00m\n\u001b[0;32m      5\u001b[0m \u001b[38;5;66;03m# create a series called s_tuple from the tuple: (\"apple\", \"banana\", \"cherry\")\u001b[39;00m\n\u001b[1;32m----> 6\u001b[0m s_tuple \u001b[38;5;241m=\u001b[39m \u001b[43mpd\u001b[49m\u001b[38;5;241;43m.\u001b[39;49m\u001b[43mSeries\u001b[49m\u001b[43m(\u001b[49m\u001b[38;5;124;43m\"\u001b[39;49m\u001b[38;5;124;43mapple\u001b[39;49m\u001b[38;5;124;43m\"\u001b[39;49m\u001b[43m,\u001b[49m\u001b[43m \u001b[49m\u001b[38;5;124;43m\"\u001b[39;49m\u001b[38;5;124;43mbanana\u001b[39;49m\u001b[38;5;124;43m\"\u001b[39;49m\u001b[43m,\u001b[49m\u001b[43m \u001b[49m\u001b[38;5;124;43m\"\u001b[39;49m\u001b[38;5;124;43mcherry\u001b[39;49m\u001b[38;5;124;43m\"\u001b[39;49m\u001b[43m)\u001b[49m\n\u001b[0;32m      7\u001b[0m \u001b[38;5;66;03m# create a series called s_dictionary from the dictionary: {\"brand\": \"Ford\", \"model\": \"Mustang\", \"year\": 1964}\u001b[39;00m\n\u001b[0;32m      8\u001b[0m s_dictionery \u001b[38;5;241m=\u001b[39m{\u001b[38;5;124m\"\u001b[39m\u001b[38;5;124mbrand\u001b[39m\u001b[38;5;124m\"\u001b[39m: \u001b[38;5;124m\"\u001b[39m\u001b[38;5;124mFord\u001b[39m\u001b[38;5;124m\"\u001b[39m, \u001b[38;5;124m\"\u001b[39m\u001b[38;5;124mmodel\u001b[39m\u001b[38;5;124m\"\u001b[39m: \u001b[38;5;124m\"\u001b[39m\u001b[38;5;124mMustang\u001b[39m\u001b[38;5;124m\"\u001b[39m, \u001b[38;5;124m\"\u001b[39m\u001b[38;5;124myear\u001b[39m\u001b[38;5;124m\"\u001b[39m: \u001b[38;5;241m1964\u001b[39m}\n",
      "File \u001b[1;32m~\\anaconda3\\lib\\site-packages\\pandas\\core\\series.py:399\u001b[0m, in \u001b[0;36mSeries.__init__\u001b[1;34m(self, data, index, dtype, name, copy, fastpath)\u001b[0m\n\u001b[0;32m    395\u001b[0m     \u001b[38;5;66;03m# uncomment the line below when removing the FutureWarning\u001b[39;00m\n\u001b[0;32m    396\u001b[0m     \u001b[38;5;66;03m# dtype = np.dtype(object)\u001b[39;00m\n\u001b[0;32m    398\u001b[0m \u001b[38;5;28;01mif\u001b[39;00m index \u001b[38;5;129;01mis\u001b[39;00m \u001b[38;5;129;01mnot\u001b[39;00m \u001b[38;5;28;01mNone\u001b[39;00m:\n\u001b[1;32m--> 399\u001b[0m     index \u001b[38;5;241m=\u001b[39m \u001b[43mensure_index\u001b[49m\u001b[43m(\u001b[49m\u001b[43mindex\u001b[49m\u001b[43m)\u001b[49m\n\u001b[0;32m    401\u001b[0m \u001b[38;5;28;01mif\u001b[39;00m data \u001b[38;5;129;01mis\u001b[39;00m \u001b[38;5;28;01mNone\u001b[39;00m:\n\u001b[0;32m    402\u001b[0m     data \u001b[38;5;241m=\u001b[39m {}\n",
      "File \u001b[1;32m~\\anaconda3\\lib\\site-packages\\pandas\\core\\indexes\\base.py:7333\u001b[0m, in \u001b[0;36mensure_index\u001b[1;34m(index_like, copy)\u001b[0m\n\u001b[0;32m   7331\u001b[0m         \u001b[38;5;28;01mreturn\u001b[39;00m Index\u001b[38;5;241m.\u001b[39m_with_infer(index_like, copy\u001b[38;5;241m=\u001b[39mcopy, tupleize_cols\u001b[38;5;241m=\u001b[39m\u001b[38;5;28;01mFalse\u001b[39;00m)\n\u001b[0;32m   7332\u001b[0m \u001b[38;5;28;01melse\u001b[39;00m:\n\u001b[1;32m-> 7333\u001b[0m     \u001b[38;5;28;01mreturn\u001b[39;00m \u001b[43mIndex\u001b[49m\u001b[38;5;241;43m.\u001b[39;49m\u001b[43m_with_infer\u001b[49m\u001b[43m(\u001b[49m\u001b[43mindex_like\u001b[49m\u001b[43m,\u001b[49m\u001b[43m \u001b[49m\u001b[43mcopy\u001b[49m\u001b[38;5;241;43m=\u001b[39;49m\u001b[43mcopy\u001b[49m\u001b[43m)\u001b[49m\n",
      "File \u001b[1;32m~\\anaconda3\\lib\\site-packages\\pandas\\core\\indexes\\base.py:716\u001b[0m, in \u001b[0;36mIndex._with_infer\u001b[1;34m(cls, *args, **kwargs)\u001b[0m\n\u001b[0;32m    714\u001b[0m \u001b[38;5;28;01mwith\u001b[39;00m warnings\u001b[38;5;241m.\u001b[39mcatch_warnings():\n\u001b[0;32m    715\u001b[0m     warnings\u001b[38;5;241m.\u001b[39mfilterwarnings(\u001b[38;5;124m\"\u001b[39m\u001b[38;5;124mignore\u001b[39m\u001b[38;5;124m\"\u001b[39m, \u001b[38;5;124m\"\u001b[39m\u001b[38;5;124m.*the Index constructor\u001b[39m\u001b[38;5;124m\"\u001b[39m, \u001b[38;5;167;01mFutureWarning\u001b[39;00m)\n\u001b[1;32m--> 716\u001b[0m     result \u001b[38;5;241m=\u001b[39m \u001b[38;5;28mcls\u001b[39m(\u001b[38;5;241m*\u001b[39margs, \u001b[38;5;241m*\u001b[39m\u001b[38;5;241m*\u001b[39mkwargs)\n\u001b[0;32m    718\u001b[0m \u001b[38;5;28;01mif\u001b[39;00m result\u001b[38;5;241m.\u001b[39mdtype \u001b[38;5;241m==\u001b[39m _dtype_obj \u001b[38;5;129;01mand\u001b[39;00m \u001b[38;5;129;01mnot\u001b[39;00m result\u001b[38;5;241m.\u001b[39m_is_multi:\n\u001b[0;32m    719\u001b[0m     \u001b[38;5;66;03m# error: Argument 1 to \"maybe_convert_objects\" has incompatible type\u001b[39;00m\n\u001b[0;32m    720\u001b[0m     \u001b[38;5;66;03m# \"Union[ExtensionArray, ndarray[Any, Any]]\"; expected\u001b[39;00m\n\u001b[0;32m    721\u001b[0m     \u001b[38;5;66;03m# \"ndarray[Any, Any]\"\u001b[39;00m\n\u001b[0;32m    722\u001b[0m     values \u001b[38;5;241m=\u001b[39m lib\u001b[38;5;241m.\u001b[39mmaybe_convert_objects(result\u001b[38;5;241m.\u001b[39m_values)  \u001b[38;5;66;03m# type: ignore[arg-type]\u001b[39;00m\n",
      "File \u001b[1;32m~\\anaconda3\\lib\\site-packages\\pandas\\core\\indexes\\base.py:545\u001b[0m, in \u001b[0;36mIndex.__new__\u001b[1;34m(cls, data, dtype, copy, name, tupleize_cols, **kwargs)\u001b[0m\n\u001b[0;32m    542\u001b[0m     \u001b[38;5;28;01mreturn\u001b[39;00m klass\u001b[38;5;241m.\u001b[39m_simple_new(arr, name)\n\u001b[0;32m    544\u001b[0m \u001b[38;5;28;01melif\u001b[39;00m is_scalar(data):\n\u001b[1;32m--> 545\u001b[0m     \u001b[38;5;28;01mraise\u001b[39;00m \u001b[38;5;28mcls\u001b[39m\u001b[38;5;241m.\u001b[39m_scalar_data_error(data)\n\u001b[0;32m    546\u001b[0m \u001b[38;5;28;01melif\u001b[39;00m \u001b[38;5;28mhasattr\u001b[39m(data, \u001b[38;5;124m\"\u001b[39m\u001b[38;5;124m__array__\u001b[39m\u001b[38;5;124m\"\u001b[39m):\n\u001b[0;32m    547\u001b[0m     \u001b[38;5;28;01mreturn\u001b[39;00m Index(np\u001b[38;5;241m.\u001b[39masarray(data), dtype\u001b[38;5;241m=\u001b[39mdtype, copy\u001b[38;5;241m=\u001b[39mcopy, name\u001b[38;5;241m=\u001b[39mname, \u001b[38;5;241m*\u001b[39m\u001b[38;5;241m*\u001b[39mkwargs)\n",
      "\u001b[1;31mTypeError\u001b[0m: Index(...) must be called with a collection of some kind, 'banana' was passed"
     ]
    }
   ],
   "source": [
    "#create the s1 series from the list: [10,20,30,40,50]\n",
    "import pandas as pd\n",
    "s1 = pd.Series([10,20,30,40,50])\n",
    "# additional practice\n",
    "# create a series called s_tuple from the tuple: (\"apple\", \"banana\", \"cherry\")\n",
    "s_tuple = pd.Series(\"apple\", \"banana\", \"cherry\")\n",
    "# create a series called s_dictionary from the dictionary: {\"brand\": \"Ford\", \"model\": \"Mustang\", \"year\": 1964}\n",
    "s_dictionery ={\"brand\": \"Ford\", \"model\": \"Mustang\", \"year\": 1964}\n",
    "s_dict = pd.Series(s_dictionery)"
   ]
  },
  {
   "cell_type": "code",
   "execution_count": 14,
   "id": "76d730b9-fd65-4278-af53-22c1674005a9",
   "metadata": {
    "tags": []
   },
   "outputs": [
    {
     "name": "stdout",
     "output_type": "stream",
     "text": [
      "The s1 series values are: [10 20 30 40 50]\n",
      "The s1 index values are: [0 1 2 3 4]\n",
      "\n",
      "\n"
     ]
    },
    {
     "ename": "NameError",
     "evalue": "name 's_tuple' is not defined",
     "output_type": "error",
     "traceback": [
      "\u001b[1;31m---------------------------------------------------------------------------\u001b[0m",
      "\u001b[1;31mNameError\u001b[0m                                 Traceback (most recent call last)",
      "Cell \u001b[1;32mIn[14], line 5\u001b[0m\n\u001b[0;32m      3\u001b[0m \u001b[38;5;28mprint\u001b[39m(\u001b[38;5;124m\"\u001b[39m\u001b[38;5;124mThe s1 index values are:\u001b[39m\u001b[38;5;124m\"\u001b[39m, s1\u001b[38;5;241m.\u001b[39mindex\u001b[38;5;241m.\u001b[39mvalues) \u001b[38;5;66;03m#s1 index values#\u001b[39;00m\n\u001b[0;32m      4\u001b[0m \u001b[38;5;28mprint\u001b[39m(\u001b[38;5;124m\"\u001b[39m\u001b[38;5;130;01m\\n\u001b[39;00m\u001b[38;5;124m\"\u001b[39m)\n\u001b[1;32m----> 5\u001b[0m \u001b[38;5;28mprint\u001b[39m(\u001b[38;5;124m\"\u001b[39m\u001b[38;5;124mThe s_tuple series values are:\u001b[39m\u001b[38;5;124m\"\u001b[39m, \u001b[43ms_tuple\u001b[49m\u001b[38;5;241m.\u001b[39mvalues) \u001b[38;5;66;03m#s_tuple values#)\u001b[39;00m\n\u001b[0;32m      6\u001b[0m \u001b[38;5;28mprint\u001b[39m(\u001b[38;5;124m\"\u001b[39m\u001b[38;5;124mThe s_tuple index values are:\u001b[39m\u001b[38;5;124m\"\u001b[39m, s_tuple\u001b[38;5;241m.\u001b[39mindex\u001b[38;5;241m.\u001b[39mvalues) \u001b[38;5;66;03m#s_tuple index values#)\u001b[39;00m\n\u001b[0;32m      7\u001b[0m \u001b[38;5;28mprint\u001b[39m(\u001b[38;5;124m\"\u001b[39m\u001b[38;5;130;01m\\n\u001b[39;00m\u001b[38;5;124m\"\u001b[39m)\n",
      "\u001b[1;31mNameError\u001b[0m: name 's_tuple' is not defined"
     ]
    }
   ],
   "source": [
    "# fill in the blank with the series values and index values\n",
    "print(\"The s1 series values are:\", s1.values) #s1 values#\n",
    "print(\"The s1 index values are:\", s1.index.values) #s1 index values#\n",
    "print(\"\\n\")\n",
    "print(\"The s_tuple series values are:\", s_tuple.values) #s_tuple values#)\n",
    "print(\"The s_tuple index values are:\", s_tuple.index.values) #s_tuple index values#)\n",
    "print(\"\\n\")\n",
    "print(\"The s_dictionary series values are:\",s_dict.values )#s_dictionary values#)\n",
    "print(\"The s_dictionary index values are:\", s_dict.index.values ) #s_dictionary index values#)"
   ]
  },
  {
   "cell_type": "markdown",
   "id": "69fb52bf-9acc-4df9-b7ae-1f54c91313b3",
   "metadata": {},
   "source": [
    "Index values in a series are generated by default. We can also define custom indexes at the time of creating series.\n",
    "\n",
    "Below is a series of marks (grades) and the associated subjects can be defined as custom row indexes."
   ]
  },
  {
   "cell_type": "code",
   "execution_count": 15,
   "id": "f7794bcc-c9f0-4c21-80f5-c71258532c13",
   "metadata": {},
   "outputs": [],
   "source": [
    "# create the s2 series from the list [80,93,78,85,97] and with labeled indexes ['English','Science','Social','Tamil','Maths']\n",
    "import pandas as pd\n"
   ]
  },
  {
   "cell_type": "code",
   "execution_count": 16,
   "id": "5674059a-a773-4bc0-b6f1-94ff3d5e2bf6",
   "metadata": {},
   "outputs": [
    {
     "name": "stdout",
     "output_type": "stream",
     "text": [
      "The Marks obtained by student are Subject:\n",
      " English    80\n",
      "Science    93\n",
      "Social     78\n",
      "Tamil      85\n",
      "Maths      97\n",
      "dtype: int64\n"
     ]
    }
   ],
   "source": [
    "# print the s2 series\n",
    "s2 = pd.Series([80,93,78,85,97],index = ['English','Science','Social','Tamil','Maths'])\n",
    "print(\"The Marks obtained by student are Subject:\\n\",s2)"
   ]
  },
  {
   "cell_type": "markdown",
   "id": "49dc78f7-1183-45a7-8750-55cc291d3dc7",
   "metadata": {},
   "source": [
    "We can provide a name for the whole series, as well as a name for the indexes."
   ]
  },
  {
   "cell_type": "code",
   "execution_count": 4,
   "id": "36a58fa6-c808-4ca4-8209-c53b97d298bf",
   "metadata": {},
   "outputs": [
    {
     "ename": "NameError",
     "evalue": "name 's2' is not defined",
     "output_type": "error",
     "traceback": [
      "\u001b[1;31m---------------------------------------------------------------------------\u001b[0m",
      "\u001b[1;31mNameError\u001b[0m                                 Traceback (most recent call last)",
      "Cell \u001b[1;32mIn[4], line 2\u001b[0m\n\u001b[0;32m      1\u001b[0m \u001b[38;5;66;03m# assign the s2 series name to be \"Student Marks\"\u001b[39;00m\n\u001b[1;32m----> 2\u001b[0m \u001b[43ms2\u001b[49m\u001b[38;5;241m.\u001b[39mname \u001b[38;5;241m=\u001b[39m \u001b[38;5;124m'\u001b[39m\u001b[38;5;124mStudent Marks\u001b[39m\u001b[38;5;124m'\u001b[39m\n\u001b[0;32m      3\u001b[0m \u001b[38;5;66;03m# assign the s2 index name to be \"Subject\"\u001b[39;00m\n\u001b[0;32m      4\u001b[0m s2\u001b[38;5;241m.\u001b[39mindex\u001b[38;5;241m.\u001b[39mname \u001b[38;5;241m=\u001b[39m \u001b[38;5;124m'\u001b[39m\u001b[38;5;124mSubject\u001b[39m\u001b[38;5;124m'\u001b[39m\n",
      "\u001b[1;31mNameError\u001b[0m: name 's2' is not defined"
     ]
    }
   ],
   "source": [
    "# assign the s2 series name to be \"Student Marks\"\n",
    "s2.name = 'Student Marks'\n",
    "# assign the s2 index name to be \"Subject\"\n",
    "s2.index.name = 'Subject'"
   ]
  },
  {
   "cell_type": "code",
   "execution_count": 17,
   "id": "0ead4e61-9a2d-4efc-bdb6-aaaad033654f",
   "metadata": {},
   "outputs": [
    {
     "name": "stdout",
     "output_type": "stream",
     "text": [
      "The Marks obtained by student are Subject:\n",
      " English    80\n",
      "Science    93\n",
      "Social     78\n",
      "Tamil      85\n",
      "Maths      97\n",
      "dtype: int64\n"
     ]
    }
   ],
   "source": [
    "# print the s2 series again to see the newly assigned name and index name\n",
    "import pandas as pd\n",
    "s2 = pd.Series([80,93,78,85,97], index = ['English','Science','Social','Tamil','Maths'])\n",
    "print(\"The Marks obtained by student are Subject:\\n\", s2)"
   ]
  },
  {
   "cell_type": "markdown",
   "id": "232015d7-c9e8-4645-be46-000956a642f4",
   "metadata": {},
   "source": [
    "## Subsetting the Series\n",
    "\n",
    "Values inside the series can be accessed using the ``[ ]`` square bracket slicing operation\n",
    "\n",
    "- Series can be sliced using the default index\n",
    "- Series can also be sliced using string indices (indexes)"
   ]
  },
  {
   "cell_type": "code",
   "execution_count": 18,
   "id": "fa73dcf8-8afb-4a9a-a11f-2549a078137d",
   "metadata": {},
   "outputs": [
    {
     "data": {
      "text/plain": [
       "Science    93\n",
       "Social     78\n",
       "Tamil      85\n",
       "dtype: int64"
      ]
     },
     "execution_count": 18,
     "metadata": {},
     "output_type": "execute_result"
    }
   ],
   "source": [
    "# return the first element in the s2 series\n",
    "#slice\n",
    "s2[1:4]"
   ]
  },
  {
   "cell_type": "code",
   "execution_count": 23,
   "id": "325c7f72-35e7-40cf-ab84-756ad241ba53",
   "metadata": {},
   "outputs": [
    {
     "data": {
      "text/plain": [
       "85"
      ]
     },
     "execution_count": 23,
     "metadata": {},
     "output_type": "execute_result"
    }
   ],
   "source": [
    "# slicing using default integer index\n",
    "# return the elements starting at position one and ending with the element at index 3\n",
    "s2[3]"
   ]
  },
  {
   "cell_type": "code",
   "execution_count": 20,
   "id": "47f1247d-bbbb-482b-b420-1e26c4acd7a8",
   "metadata": {},
   "outputs": [
    {
     "data": {
      "text/plain": [
       "85"
      ]
     },
     "execution_count": 20,
     "metadata": {},
     "output_type": "execute_result"
    }
   ],
   "source": [
    "# Slicing using string index\n",
    "# return the element associated with the index 'Tamil'\n",
    "s2['Tamil']"
   ]
  },
  {
   "cell_type": "markdown",
   "id": "3818d8c1-bddf-4733-a327-a54251fde82f",
   "metadata": {},
   "source": [
    "## Creating a Series from a Dictionary\n",
    "\n",
    "- A Python dictionary is a data structure which maps keys to a set of values.\n",
    "- A dictionary contains key-value pairs.\n",
    "- A series is similar to a dictionary in a way that it maps given indexes to a set of values.\n",
    "\n",
    "Let's see how to create a series from a dictionary\n",
    "\n",
    "I have a dictionary that represents fruits and prices. Let's create a series from this dictionary"
   ]
  },
  {
   "cell_type": "code",
   "execution_count": 28,
   "id": "e518a820-ab1f-41c1-8740-7df589d2e145",
   "metadata": {},
   "outputs": [],
   "source": [
    "# create a dictionary of fruit names and their prices. Use the values from the article\n",
    "dict_fruits = { 'Orange':80,\n",
    "          'Apples':210,\n",
    "          'Bananas':50,\n",
    "         'Grapes':90,\n",
    "         'Watermelon':70}"
   ]
  },
  {
   "cell_type": "code",
   "execution_count": 31,
   "id": "f55a91ad-4954-44a7-ab9e-0dc9f049866f",
   "metadata": {},
   "outputs": [],
   "source": [
    "# Lets convert this dictionary into a series\n",
    "# use the pandas method .Series() \n",
    "fruits = pd.Series(dict_fruits)"
   ]
  },
  {
   "cell_type": "code",
   "execution_count": 32,
   "id": "e7ffad90-5e49-46bb-93ba-d6b66682f8b0",
   "metadata": {},
   "outputs": [
    {
     "name": "stdout",
     "output_type": "stream",
     "text": [
      "Fruits and prices:  Orange         80\n",
      "Apples        210\n",
      "Bananas        50\n",
      "Grapes         90\n",
      "Watermelon     70\n",
      "dtype: int64\n"
     ]
    }
   ],
   "source": [
    "# print the series\n",
    "print(\"Fruits and prices: \", fruits)"
   ]
  },
  {
   "cell_type": "code",
   "execution_count": 33,
   "id": "a4477e73-b2f8-472c-a8ce-d25455fceda0",
   "metadata": {},
   "outputs": [
    {
     "name": "stdout",
     "output_type": "stream",
     "text": [
      "The price per kg of grapes is: 90\n"
     ]
    }
   ],
   "source": [
    "# Slice the series and retrieve price of grapes\n",
    "print(\"The price per kg of grapes is:\", fruits['Grapes'])"
   ]
  },
  {
   "cell_type": "markdown",
   "id": "4395fadd-db90-49f7-9ca4-4185e41b3879",
   "metadata": {},
   "source": [
    "# DataFrame\n",
    "\n",
    "## Create a DataFrame from a Series object\n",
    "\n",
    "Let's create a DataFrame from the marks series we created in the above step."
   ]
  },
  {
   "cell_type": "code",
   "execution_count": 35,
   "id": "7b8c6007-fb21-4609-b98f-5e8a7359ba42",
   "metadata": {},
   "outputs": [
    {
     "ename": "NameError",
     "evalue": "name 'column' is not defined",
     "output_type": "error",
     "traceback": [
      "\u001b[1;31m---------------------------------------------------------------------------\u001b[0m",
      "\u001b[1;31mNameError\u001b[0m                                 Traceback (most recent call last)",
      "Cell \u001b[1;32mIn[35], line 2\u001b[0m\n\u001b[0;32m      1\u001b[0m \u001b[38;5;66;03m# create a dataframe from the s2 series\u001b[39;00m\n\u001b[1;32m----> 2\u001b[0m df_marks \u001b[38;5;241m=\u001b[39m pd\u001b[38;5;241m.\u001b[39mDataFrame(s2, \u001b[43mcolumn\u001b[49m[\u001b[38;5;124m'\u001b[39m\u001b[38;5;124mStudent1\u001b[39m\u001b[38;5;124m'\u001b[39m])\n",
      "\u001b[1;31mNameError\u001b[0m: name 'column' is not defined"
     ]
    }
   ],
   "source": [
    "# create a dataframe from the s2 series\n",
    "df_marks = pd.DataFrame(s2, column['Student1'])"
   ]
  },
  {
   "cell_type": "code",
   "execution_count": null,
   "id": "3440fb09-d503-4471-8d68-5fb91c77b0c8",
   "metadata": {},
   "outputs": [],
   "source": [
    "# print the dataframe\n",
    "print(\"The dataframe created from series isn\",df_marks)"
   ]
  },
  {
   "cell_type": "markdown",
   "id": "4b1ea072-e99a-4155-af6d-d02586272089",
   "metadata": {
    "tags": []
   },
   "source": [
    "## Create a DataFrame from a Dictionary\n",
    "\n",
    "Let's say we have 2 series of heights and weights of the same set of persons and we want to put it together in a table.\n",
    "\n",
    "Here we can create dictionary using both series and create a DataFrame using the Pandas ``.DataFrame()`` method."
   ]
  },
  {
   "cell_type": "code",
   "execution_count": null,
   "id": "4ce55704-083e-480d-9acd-44304b341f31",
   "metadata": {},
   "outputs": [],
   "source": [
    "# Create height series using [5.3, 6.2,5.8,5.0,5.5] for values, ['Person 1','Person 2','Person 3','Person 4','Person 5'] for indexes\n",
    "height = pd.Series([5.3, 6.2,5.8,5.0,5.5], index = ['Person 1','Person 2','Person 3','Person 4','Person 5'])\n",
    "\n",
    "# Create weight series (in kgs) using [65,89,75,60,59] for values and the same indexes as height\n",
    "weight = pd.Series([65,89,75,60,59], index=['Person 1','Person 2','Person 3','Person 4','Person 5'])"
   ]
  },
  {
   "cell_type": "code",
   "execution_count": 12,
   "id": "1bd7b205-0443-454e-85d5-bcd9e5478aea",
   "metadata": {},
   "outputs": [
    {
     "ename": "NameError",
     "evalue": "name 'height' is not defined",
     "output_type": "error",
     "traceback": [
      "\u001b[1;31m---------------------------------------------------------------------------\u001b[0m",
      "\u001b[1;31mNameError\u001b[0m                                 Traceback (most recent call last)",
      "Cell \u001b[1;32mIn[12], line 2\u001b[0m\n\u001b[0;32m      1\u001b[0m \u001b[38;5;66;03m# Create a dataframe from the height and weight series above\u001b[39;00m\n\u001b[1;32m----> 2\u001b[0m df_person \u001b[38;5;241m=\u001b[39m pd\u001b[38;5;241m.\u001b[39mDataFrame({\u001b[38;5;124m'\u001b[39m\u001b[38;5;124mheight\u001b[39m\u001b[38;5;124m'\u001b[39m: \u001b[43mheight\u001b[49m, \u001b[38;5;124m'\u001b[39m\u001b[38;5;124mweight\u001b[39m\u001b[38;5;124m'\u001b[39m: weight})\n\u001b[0;32m      3\u001b[0m \u001b[38;5;66;03m# print the dataframe\u001b[39;00m\n\u001b[0;32m      4\u001b[0m \u001b[38;5;28mprint\u001b[39m(\u001b[38;5;124m\"\u001b[39m\u001b[38;5;124mThe Person table details are:n\u001b[39m\u001b[38;5;124m\"\u001b[39m, df_person)\n",
      "\u001b[1;31mNameError\u001b[0m: name 'height' is not defined"
     ]
    }
   ],
   "source": [
    "# Create a dataframe from the height and weight series above\n",
    "df_person = pd.DataFrame({'height': height, 'weight': weight})\n",
    "# print the dataframe\n",
    "print(\"The Person table details are:n\", df_person)"
   ]
  }
 ],
 "metadata": {
  "kernelspec": {
   "display_name": "Python 3 (ipykernel)",
   "language": "python",
   "name": "python3"
  },
  "language_info": {
   "codemirror_mode": {
    "name": "ipython",
    "version": 3
   },
   "file_extension": ".py",
   "mimetype": "text/x-python",
   "name": "python",
   "nbconvert_exporter": "python",
   "pygments_lexer": "ipython3",
   "version": "3.10.9"
  }
 },
 "nbformat": 4,
 "nbformat_minor": 5
}
